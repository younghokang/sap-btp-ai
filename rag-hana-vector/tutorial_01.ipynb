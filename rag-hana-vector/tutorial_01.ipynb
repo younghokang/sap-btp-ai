{
 "cells": [
  {
   "cell_type": "code",
   "execution_count": null,
   "id": "a000005c",
   "metadata": {},
   "outputs": [
    {
     "name": "stdout",
     "output_type": "stream",
     "text": [
      "Requirement already satisfied: generative-ai-hub-sdk in /opt/homebrew/lib/python3.11/site-packages (4.10.2)\n",
      "Requirement already satisfied: overloading==0.5.0 in /opt/homebrew/lib/python3.11/site-packages (from generative-ai-hub-sdk) (0.5.0)\n",
      "Requirement already satisfied: packaging>=23.2 in /opt/homebrew/lib/python3.11/site-packages (from generative-ai-hub-sdk) (24.2)\n",
      "Requirement already satisfied: openai>=1.58.1 in /opt/homebrew/lib/python3.11/site-packages (from generative-ai-hub-sdk) (1.75.0)\n",
      "Requirement already satisfied: ai-core-sdk>=2.5.7 in /opt/homebrew/lib/python3.11/site-packages (from generative-ai-hub-sdk) (2.5.7)\n",
      "Requirement already satisfied: dacite>=1.8.1 in /opt/homebrew/lib/python3.11/site-packages (from generative-ai-hub-sdk) (1.9.2)\n",
      "Requirement already satisfied: click>=8.1.7 in /opt/homebrew/lib/python3.11/site-packages (from generative-ai-hub-sdk) (8.1.8)\n",
      "Requirement already satisfied: httpx>=0.27.0 in /opt/homebrew/lib/python3.11/site-packages (from generative-ai-hub-sdk) (0.28.1)\n",
      "Requirement already satisfied: pydantic==2.10.6 in /opt/homebrew/lib/python3.11/site-packages (from generative-ai-hub-sdk) (2.10.6)\n",
      "Requirement already satisfied: annotated-types>=0.6.0 in /opt/homebrew/lib/python3.11/site-packages (from pydantic==2.10.6->generative-ai-hub-sdk) (0.7.0)\n",
      "Requirement already satisfied: pydantic-core==2.27.2 in /opt/homebrew/lib/python3.11/site-packages (from pydantic==2.10.6->generative-ai-hub-sdk) (2.27.2)\n",
      "Requirement already satisfied: typing-extensions>=4.12.2 in /opt/homebrew/lib/python3.11/site-packages (from pydantic==2.10.6->generative-ai-hub-sdk) (4.13.1)\n",
      "Requirement already satisfied: ai-api-client-sdk==2.4.6 in /opt/homebrew/lib/python3.11/site-packages (from ai-core-sdk>=2.5.7->generative-ai-hub-sdk) (2.4.6)\n",
      "Requirement already satisfied: aenum~=3.1 in /opt/homebrew/lib/python3.11/site-packages (from ai-api-client-sdk==2.4.6->ai-core-sdk>=2.5.7->generative-ai-hub-sdk) (3.1.15)\n",
      "Requirement already satisfied: pyhumps~=3.0 in /opt/homebrew/lib/python3.11/site-packages (from ai-api-client-sdk==2.4.6->ai-core-sdk>=2.5.7->generative-ai-hub-sdk) (3.8.0)\n",
      "Requirement already satisfied: requests<3.0 in /opt/homebrew/lib/python3.11/site-packages (from ai-api-client-sdk==2.4.6->ai-core-sdk>=2.5.7->generative-ai-hub-sdk) (2.32.3)\n",
      "Requirement already satisfied: anyio in /opt/homebrew/lib/python3.11/site-packages (from httpx>=0.27.0->generative-ai-hub-sdk) (4.9.0)\n",
      "Requirement already satisfied: certifi in /opt/homebrew/lib/python3.11/site-packages (from httpx>=0.27.0->generative-ai-hub-sdk) (2025.1.31)\n",
      "Requirement already satisfied: httpcore==1.* in /opt/homebrew/lib/python3.11/site-packages (from httpx>=0.27.0->generative-ai-hub-sdk) (1.0.8)\n",
      "Requirement already satisfied: idna in /opt/homebrew/lib/python3.11/site-packages (from httpx>=0.27.0->generative-ai-hub-sdk) (3.10)\n",
      "Requirement already satisfied: h11<0.15,>=0.13 in /opt/homebrew/lib/python3.11/site-packages (from httpcore==1.*->httpx>=0.27.0->generative-ai-hub-sdk) (0.14.0)\n",
      "Requirement already satisfied: distro<2,>=1.7.0 in /opt/homebrew/lib/python3.11/site-packages (from openai>=1.58.1->generative-ai-hub-sdk) (1.9.0)\n",
      "Requirement already satisfied: jiter<1,>=0.4.0 in /opt/homebrew/lib/python3.11/site-packages (from openai>=1.58.1->generative-ai-hub-sdk) (0.9.0)\n",
      "Requirement already satisfied: sniffio in /opt/homebrew/lib/python3.11/site-packages (from openai>=1.58.1->generative-ai-hub-sdk) (1.3.1)\n",
      "Requirement already satisfied: tqdm>4 in /opt/homebrew/lib/python3.11/site-packages (from openai>=1.58.1->generative-ai-hub-sdk) (4.67.1)\n",
      "Requirement already satisfied: charset-normalizer<4,>=2 in /opt/homebrew/lib/python3.11/site-packages (from requests<3.0->ai-api-client-sdk==2.4.6->ai-core-sdk>=2.5.7->generative-ai-hub-sdk) (3.4.1)\n",
      "Requirement already satisfied: urllib3<3,>=1.21.1 in /opt/homebrew/lib/python3.11/site-packages (from requests<3.0->ai-api-client-sdk==2.4.6->ai-core-sdk>=2.5.7->generative-ai-hub-sdk) (2.4.0)\n",
      "Collecting hdbcli\n",
      "  Downloading hdbcli-2.24.24-cp38-abi3-macosx_11_0_arm64.whl.metadata (6.0 kB)\n",
      "Downloading hdbcli-2.24.24-cp38-abi3-macosx_11_0_arm64.whl (5.0 MB)\n",
      "\u001b[2K   \u001b[90m━━━━━━━━━━━━━━━━━━━━━━━━━━━━━━━━━━━━━━━━\u001b[0m \u001b[32m5.0/5.0 MB\u001b[0m \u001b[31m25.8 MB/s\u001b[0m eta \u001b[36m0:00:00\u001b[0m00:01\u001b[0m\n",
      "\u001b[?25hInstalling collected packages: hdbcli\n",
      "Successfully installed hdbcli-2.24.24\n"
     ]
    }
   ],
   "source": [
    "! pip3 install generative-ai-hub-sdk"
   ]
  },
  {
   "cell_type": "code",
   "execution_count": 6,
   "id": "c39672cf",
   "metadata": {},
   "outputs": [
    {
     "name": "stdout",
     "output_type": "stream",
     "text": [
      "['ID', 'L1', 'L2', 'L3', 'FILENAME', 'HEADER1', 'HEADER2', 'TEXT', 'VECTOR_STR']\n"
     ]
    }
   ],
   "source": [
    "# Read data from 'GRAPH_DOCU_2503.csv' and store each row in the 'data' list\n",
    "import csv\n",
    "\n",
    "data = []\n",
    "with open('GRAPH_DOCU_2503.csv', encoding='utf-8') as csvfile:\n",
    "    csv_reader = csv.reader(csvfile)\n",
    "    for row in csv_reader:\n",
    "        try:\n",
    "            data.append(row)\n",
    "        except:\n",
    "            print(row)\n",
    "\n",
    "print(data[0])  # Print the first row of data"
   ]
  },
  {
   "cell_type": "code",
   "execution_count": 8,
   "id": "440adf78",
   "metadata": {},
   "outputs": [
    {
     "name": "stdout",
     "output_type": "stream",
     "text": [
      "Requirement already satisfied: hdbcli in /opt/homebrew/lib/python3.11/site-packages (2.24.24)\n"
     ]
    }
   ],
   "source": [
    "! pip3 install hdbcli"
   ]
  },
  {
   "cell_type": "code",
   "execution_count": null,
   "id": "89e51d48",
   "metadata": {},
   "outputs": [],
   "source": [
    "# Establish a secure connection to an SAP HANA database using hdbcli \n",
    "import hdbcli\n",
    "from hdbcli import dbapi\n",
    "\n",
    "cc = dbapi.connect(\n",
    "    address='<host>',\n",
    "    port='443',\n",
    "    user='<user>',\n",
    "    password='<password>',\n",
    "    encrypt=True\n",
    "    )\n"
   ]
  }
 ],
 "metadata": {
  "kernelspec": {
   "display_name": "Python 3",
   "language": "python",
   "name": "python3"
  },
  "language_info": {
   "codemirror_mode": {
    "name": "ipython",
    "version": 3
   },
   "file_extension": ".py",
   "mimetype": "text/x-python",
   "name": "python",
   "nbconvert_exporter": "python",
   "pygments_lexer": "ipython3",
   "version": "3.11.11"
  }
 },
 "nbformat": 4,
 "nbformat_minor": 5
}
